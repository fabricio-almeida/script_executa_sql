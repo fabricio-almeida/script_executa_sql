{
 "cells": [
  {
   "cell_type": "code",
   "execution_count": 4,
   "metadata": {},
   "outputs": [],
   "source": [
    "# importa as funções de config.py\n",
    "from config import altera_db\n",
    "from connections import connections"
   ]
  },
  {
   "cell_type": "code",
   "execution_count": 5,
   "metadata": {},
   "outputs": [],
   "source": [
    " # Substitua pela sua consulta SQL\n",
    "sql = ''' \n",
    "\n",
    "SELECT primeiro_nome from clientes limit 1\n",
    "\n",
    "''' \n"
   ]
  },
  {
   "cell_type": "code",
   "execution_count": 6,
   "metadata": {},
   "outputs": [
    {
     "name": "stdout",
     "output_type": "stream",
     "text": [
      "\n",
      "Executanto em: banco_teste\n",
      "Consulta executada com sucesso. Resultados: [('STHEFESON',)]\n",
      "\n",
      "Executanto em: banco_teste2\n",
      "Consulta executada com sucesso. Resultados: [('STHEFESON',)]\n",
      "\n",
      "Executanto em: banco_teste3\n",
      "Consulta executada com sucesso. Resultados: [('STHEFESON',)]\n",
      "\n",
      "Executanto em: banco_teste4\n",
      "Consulta executada com sucesso. Resultados: [('STHEFESON',)]\n"
     ]
    }
   ],
   "source": [
    "# Itera sobre todas as conexões e chama a função de alteração\n",
    "for connection_name, connection_params in connections.items():\n",
    "    print(f\"\\nExecutanto em: {connection_name}\")\n",
    "    resultado = altera_db(sql, connection_name)  # Captura o valor retornado\n",
    "    print(resultado)  # Exibe o resultado"
   ]
  },
  {
   "cell_type": "code",
   "execution_count": null,
   "metadata": {},
   "outputs": [],
   "source": []
  },
  {
   "cell_type": "code",
   "execution_count": null,
   "metadata": {},
   "outputs": [],
   "source": []
  },
  {
   "cell_type": "code",
   "execution_count": null,
   "metadata": {},
   "outputs": [],
   "source": []
  },
  {
   "cell_type": "code",
   "execution_count": null,
   "metadata": {},
   "outputs": [],
   "source": []
  },
  {
   "cell_type": "code",
   "execution_count": null,
   "metadata": {},
   "outputs": [],
   "source": []
  },
  {
   "cell_type": "code",
   "execution_count": null,
   "metadata": {},
   "outputs": [],
   "source": []
  },
  {
   "cell_type": "code",
   "execution_count": null,
   "metadata": {},
   "outputs": [],
   "source": []
  }
 ],
 "metadata": {
  "kernelspec": {
   "display_name": "v1",
   "language": "python",
   "name": "python3"
  },
  "language_info": {
   "codemirror_mode": {
    "name": "ipython",
    "version": 3
   },
   "file_extension": ".py",
   "mimetype": "text/x-python",
   "name": "python",
   "nbconvert_exporter": "python",
   "pygments_lexer": "ipython3",
   "version": "3.12.6"
  }
 },
 "nbformat": 4,
 "nbformat_minor": 2
}
